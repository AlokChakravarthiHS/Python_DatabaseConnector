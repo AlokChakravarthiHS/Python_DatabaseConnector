{
 "cells": [
  {
   "cell_type": "markdown",
   "id": "09286d3e",
   "metadata": {},
   "source": [
    "# MySQL with Python \n",
    "\n",
    "## Making the connection to the database"
   ]
  },
  {
   "cell_type": "code",
   "execution_count": 1,
   "id": "11c05766",
   "metadata": {},
   "outputs": [],
   "source": [
    "# MySql conection we import the connector first\n",
    "\n",
    "import mysql.connector as sql"
   ]
  },
  {
   "cell_type": "code",
   "execution_count": 2,
   "id": "899b41eb",
   "metadata": {},
   "outputs": [
    {
     "name": "stdout",
     "output_type": "stream",
     "text": [
      "<mysql.connector.connection_cext.CMySQLConnection object at 0x000001F116940790>\n"
     ]
    }
   ],
   "source": [
    "# Here we call the .connect() fn to give connection details of the database\n",
    "\n",
    "connection = sql.connect(\n",
    "    host='localhost',\n",
    "    user='root',\n",
    "    password='1234'\n",
    ")\n",
    "\n",
    "print(connection) # gives the mysql connection object created in that particular location"
   ]
  },
  {
   "cell_type": "markdown",
   "id": "b04b04b9",
   "metadata": {},
   "source": [
    "## Creating and dropping databases"
   ]
  },
  {
   "cell_type": "code",
   "execution_count": 3,
   "id": "d582b25a",
   "metadata": {},
   "outputs": [
    {
     "ename": "DatabaseError",
     "evalue": "1007 (HY000): Can't create database 'loki'; database exists",
     "output_type": "error",
     "traceback": [
      "\u001b[1;31m---------------------------------------------------------------------------\u001b[0m",
      "\u001b[1;31mMySQLInterfaceError\u001b[0m                       Traceback (most recent call last)",
      "\u001b[1;32mC:\\ProgramData\\Anaconda3\\lib\\site-packages\\mysql\\connector\\connection_cext.py\u001b[0m in \u001b[0;36mcmd_query\u001b[1;34m(self, query, raw, buffered, raw_as_string)\u001b[0m\n\u001b[0;32m    607\u001b[0m                 \u001b[0mquery\u001b[0m \u001b[1;33m=\u001b[0m \u001b[0mquery\u001b[0m\u001b[1;33m.\u001b[0m\u001b[0mencode\u001b[0m\u001b[1;33m(\u001b[0m\u001b[1;34m\"utf-8\"\u001b[0m\u001b[1;33m)\u001b[0m\u001b[1;33m\u001b[0m\u001b[1;33m\u001b[0m\u001b[0m\n\u001b[1;32m--> 608\u001b[1;33m             self._cmysql.query(\n\u001b[0m\u001b[0;32m    609\u001b[0m                 \u001b[0mquery\u001b[0m\u001b[1;33m,\u001b[0m\u001b[1;33m\u001b[0m\u001b[1;33m\u001b[0m\u001b[0m\n",
      "\u001b[1;31mMySQLInterfaceError\u001b[0m: Can't create database 'loki'; database exists",
      "\nThe above exception was the direct cause of the following exception:\n",
      "\u001b[1;31mDatabaseError\u001b[0m                             Traceback (most recent call last)",
      "\u001b[1;32m~\\AppData\\Local\\Temp\\ipykernel_6600\\314842947.py\u001b[0m in \u001b[0;36m<module>\u001b[1;34m\u001b[0m\n\u001b[0;32m      2\u001b[0m \u001b[1;33m\u001b[0m\u001b[0m\n\u001b[0;32m      3\u001b[0m \u001b[0mcursor\u001b[0m\u001b[1;33m=\u001b[0m\u001b[0mconnection\u001b[0m\u001b[1;33m.\u001b[0m\u001b[0mcursor\u001b[0m\u001b[1;33m(\u001b[0m\u001b[1;33m)\u001b[0m\u001b[1;33m\u001b[0m\u001b[1;33m\u001b[0m\u001b[0m\n\u001b[1;32m----> 4\u001b[1;33m \u001b[0mcursor\u001b[0m\u001b[1;33m.\u001b[0m\u001b[0mexecute\u001b[0m\u001b[1;33m(\u001b[0m\u001b[1;34m\"create database Loki\"\u001b[0m\u001b[1;33m)\u001b[0m\u001b[1;33m\u001b[0m\u001b[1;33m\u001b[0m\u001b[0m\n\u001b[0m",
      "\u001b[1;32mC:\\ProgramData\\Anaconda3\\lib\\site-packages\\mysql\\connector\\cursor_cext.py\u001b[0m in \u001b[0;36mexecute\u001b[1;34m(self, operation, params, multi)\u001b[0m\n\u001b[0;32m    328\u001b[0m \u001b[1;33m\u001b[0m\u001b[0m\n\u001b[0;32m    329\u001b[0m         \u001b[1;32mtry\u001b[0m\u001b[1;33m:\u001b[0m\u001b[1;33m\u001b[0m\u001b[1;33m\u001b[0m\u001b[0m\n\u001b[1;32m--> 330\u001b[1;33m             result = self._cnx.cmd_query(\n\u001b[0m\u001b[0;32m    331\u001b[0m                 \u001b[0mstmt\u001b[0m\u001b[1;33m,\u001b[0m\u001b[1;33m\u001b[0m\u001b[1;33m\u001b[0m\u001b[0m\n\u001b[0;32m    332\u001b[0m                 \u001b[0mraw\u001b[0m\u001b[1;33m=\u001b[0m\u001b[0mself\u001b[0m\u001b[1;33m.\u001b[0m\u001b[0m_raw\u001b[0m\u001b[1;33m,\u001b[0m\u001b[1;33m\u001b[0m\u001b[1;33m\u001b[0m\u001b[0m\n",
      "\u001b[1;32mC:\\ProgramData\\Anaconda3\\lib\\site-packages\\mysql\\connector\\connection_cext.py\u001b[0m in \u001b[0;36mcmd_query\u001b[1;34m(self, query, raw, buffered, raw_as_string)\u001b[0m\n\u001b[0;32m    614\u001b[0m             )\n\u001b[0;32m    615\u001b[0m         \u001b[1;32mexcept\u001b[0m \u001b[0mMySQLInterfaceError\u001b[0m \u001b[1;32mas\u001b[0m \u001b[0merr\u001b[0m\u001b[1;33m:\u001b[0m\u001b[1;33m\u001b[0m\u001b[1;33m\u001b[0m\u001b[0m\n\u001b[1;32m--> 616\u001b[1;33m             raise get_mysql_exception(\n\u001b[0m\u001b[0;32m    617\u001b[0m                 \u001b[0merr\u001b[0m\u001b[1;33m.\u001b[0m\u001b[0merrno\u001b[0m\u001b[1;33m,\u001b[0m \u001b[0mmsg\u001b[0m\u001b[1;33m=\u001b[0m\u001b[0merr\u001b[0m\u001b[1;33m.\u001b[0m\u001b[0mmsg\u001b[0m\u001b[1;33m,\u001b[0m \u001b[0msqlstate\u001b[0m\u001b[1;33m=\u001b[0m\u001b[0merr\u001b[0m\u001b[1;33m.\u001b[0m\u001b[0msqlstate\u001b[0m\u001b[1;33m\u001b[0m\u001b[1;33m\u001b[0m\u001b[0m\n\u001b[0;32m    618\u001b[0m             ) from err\n",
      "\u001b[1;31mDatabaseError\u001b[0m: 1007 (HY000): Can't create database 'loki'; database exists"
     ]
    }
   ],
   "source": [
    "# We use .cursor() to point or used as a pointer \n",
    "\n",
    "cursor=connection.cursor()\n",
    "cursor.execute(\"create database Loki\")\n"
   ]
  },
  {
   "cell_type": "code",
   "execution_count": 56,
   "id": "47d8af41",
   "metadata": {},
   "outputs": [],
   "source": [
    "cursor.execute('show databases')\n",
    "#cursor.fetchall()   # to get output without using for loop\n",
    "# as we use cursor as pointer we cannot go and run the previous stmt again\n",
    "# we use for loop to see the output as the output of cursor.execute('show tables') is not in form of list"
   ]
  },
  {
   "cell_type": "code",
   "execution_count": 57,
   "id": "411d8167",
   "metadata": {},
   "outputs": [
    {
     "name": "stdout",
     "output_type": "stream",
     "text": [
      "('customer',)\n",
      "('information_schema',)\n",
      "('loki',)\n",
      "('mysql',)\n",
      "('performance_schema',)\n",
      "('sakila',)\n",
      "('sys',)\n",
      "('world',)\n"
     ]
    }
   ],
   "source": [
    "for databases in cursor:   # we use for loop as a pointer to print the kist of database names\n",
    "    print(databases)"
   ]
  },
  {
   "cell_type": "code",
   "execution_count": 25,
   "id": "b071bc6a",
   "metadata": {},
   "outputs": [
    {
     "name": "stdout",
     "output_type": "stream",
     "text": [
      "('customer',)\n",
      "('information_schema',)\n",
      "('mysql',)\n",
      "('performance_schema',)\n",
      "('sakila',)\n",
      "('sys',)\n",
      "('world',)\n"
     ]
    }
   ],
   "source": [
    "cursor.execute('drop database loki')\n",
    "cursor.execute('show databases')\n",
    "\n",
    "for db in cursor:\n",
    "    print(db)"
   ]
  },
  {
   "cell_type": "markdown",
   "id": "e0b26f10",
   "metadata": {},
   "source": [
    "## Creating the table and inserting the values "
   ]
  },
  {
   "cell_type": "code",
   "execution_count": 83,
   "id": "c0b6c4f8",
   "metadata": {},
   "outputs": [],
   "source": [
    "# creating connection to 'loki database' and performing operations\n",
    "connection = sql.connect(\n",
    "    host='localhost',\n",
    "    user='root',\n",
    "    password='1234',\n",
    "    database='customer'\n",
    ")"
   ]
  },
  {
   "cell_type": "code",
   "execution_count": 84,
   "id": "35ad85e3",
   "metadata": {},
   "outputs": [
    {
     "data": {
      "text/plain": [
       "[('bonus_table',),\n",
       " ('clone_employee',),\n",
       " ('employee',),\n",
       " ('employee_designation',)]"
      ]
     },
     "execution_count": 84,
     "metadata": {},
     "output_type": "execute_result"
    }
   ],
   "source": [
    "cursor= connection.cursor()\n",
    "cursor.execute(\"SHOW TABLES\")\n",
    "cursor.fetchall()"
   ]
  },
  {
   "cell_type": "code",
   "execution_count": 67,
   "id": "31f5adef",
   "metadata": {},
   "outputs": [
    {
     "ename": "ProgrammingError",
     "evalue": "1050 (42S01): Table 'student' already exists",
     "output_type": "error",
     "traceback": [
      "\u001b[1;31m---------------------------------------------------------------------------\u001b[0m",
      "\u001b[1;31mMySQLInterfaceError\u001b[0m                       Traceback (most recent call last)",
      "\u001b[1;32mC:\\ProgramData\\Anaconda3\\lib\\site-packages\\mysql\\connector\\connection_cext.py\u001b[0m in \u001b[0;36mcmd_query\u001b[1;34m(self, query, raw, buffered, raw_as_string)\u001b[0m\n\u001b[0;32m    607\u001b[0m                 \u001b[0mquery\u001b[0m \u001b[1;33m=\u001b[0m \u001b[0mquery\u001b[0m\u001b[1;33m.\u001b[0m\u001b[0mencode\u001b[0m\u001b[1;33m(\u001b[0m\u001b[1;34m\"utf-8\"\u001b[0m\u001b[1;33m)\u001b[0m\u001b[1;33m\u001b[0m\u001b[1;33m\u001b[0m\u001b[0m\n\u001b[1;32m--> 608\u001b[1;33m             self._cmysql.query(\n\u001b[0m\u001b[0;32m    609\u001b[0m                 \u001b[0mquery\u001b[0m\u001b[1;33m,\u001b[0m\u001b[1;33m\u001b[0m\u001b[1;33m\u001b[0m\u001b[0m\n",
      "\u001b[1;31mMySQLInterfaceError\u001b[0m: Table 'student' already exists",
      "\nThe above exception was the direct cause of the following exception:\n",
      "\u001b[1;31mProgrammingError\u001b[0m                          Traceback (most recent call last)",
      "\u001b[1;32m~\\AppData\\Local\\Temp\\ipykernel_6600\\3011168687.py\u001b[0m in \u001b[0;36m<module>\u001b[1;34m\u001b[0m\n\u001b[1;32m----> 1\u001b[1;33m \u001b[0mcursor\u001b[0m\u001b[1;33m.\u001b[0m\u001b[0mexecute\u001b[0m\u001b[1;33m(\u001b[0m\u001b[1;34m\"CREATE TABLE STUDENT(std_id INT AUTO_INCREMENT NOT NULL PRIMARY KEY,firstname VARCHAR(25),subjects VARCHAR(20),marks INT)\"\u001b[0m\u001b[1;33m)\u001b[0m\u001b[1;33m\u001b[0m\u001b[1;33m\u001b[0m\u001b[0m\n\u001b[0m\u001b[0;32m      2\u001b[0m \u001b[1;31m#cursor.execute('show tables')\u001b[0m\u001b[1;33m\u001b[0m\u001b[1;33m\u001b[0m\u001b[0m\n\u001b[0;32m      3\u001b[0m \u001b[1;31m#cursor.fetchall()\u001b[0m\u001b[1;33m\u001b[0m\u001b[1;33m\u001b[0m\u001b[0m\n",
      "\u001b[1;32mC:\\ProgramData\\Anaconda3\\lib\\site-packages\\mysql\\connector\\cursor_cext.py\u001b[0m in \u001b[0;36mexecute\u001b[1;34m(self, operation, params, multi)\u001b[0m\n\u001b[0;32m    328\u001b[0m \u001b[1;33m\u001b[0m\u001b[0m\n\u001b[0;32m    329\u001b[0m         \u001b[1;32mtry\u001b[0m\u001b[1;33m:\u001b[0m\u001b[1;33m\u001b[0m\u001b[1;33m\u001b[0m\u001b[0m\n\u001b[1;32m--> 330\u001b[1;33m             result = self._cnx.cmd_query(\n\u001b[0m\u001b[0;32m    331\u001b[0m                 \u001b[0mstmt\u001b[0m\u001b[1;33m,\u001b[0m\u001b[1;33m\u001b[0m\u001b[1;33m\u001b[0m\u001b[0m\n\u001b[0;32m    332\u001b[0m                 \u001b[0mraw\u001b[0m\u001b[1;33m=\u001b[0m\u001b[0mself\u001b[0m\u001b[1;33m.\u001b[0m\u001b[0m_raw\u001b[0m\u001b[1;33m,\u001b[0m\u001b[1;33m\u001b[0m\u001b[1;33m\u001b[0m\u001b[0m\n",
      "\u001b[1;32mC:\\ProgramData\\Anaconda3\\lib\\site-packages\\mysql\\connector\\connection_cext.py\u001b[0m in \u001b[0;36mcmd_query\u001b[1;34m(self, query, raw, buffered, raw_as_string)\u001b[0m\n\u001b[0;32m    614\u001b[0m             )\n\u001b[0;32m    615\u001b[0m         \u001b[1;32mexcept\u001b[0m \u001b[0mMySQLInterfaceError\u001b[0m \u001b[1;32mas\u001b[0m \u001b[0merr\u001b[0m\u001b[1;33m:\u001b[0m\u001b[1;33m\u001b[0m\u001b[1;33m\u001b[0m\u001b[0m\n\u001b[1;32m--> 616\u001b[1;33m             raise get_mysql_exception(\n\u001b[0m\u001b[0;32m    617\u001b[0m                 \u001b[0merr\u001b[0m\u001b[1;33m.\u001b[0m\u001b[0merrno\u001b[0m\u001b[1;33m,\u001b[0m \u001b[0mmsg\u001b[0m\u001b[1;33m=\u001b[0m\u001b[0merr\u001b[0m\u001b[1;33m.\u001b[0m\u001b[0mmsg\u001b[0m\u001b[1;33m,\u001b[0m \u001b[0msqlstate\u001b[0m\u001b[1;33m=\u001b[0m\u001b[0merr\u001b[0m\u001b[1;33m.\u001b[0m\u001b[0msqlstate\u001b[0m\u001b[1;33m\u001b[0m\u001b[1;33m\u001b[0m\u001b[0m\n\u001b[0;32m    618\u001b[0m             ) from err\n",
      "\u001b[1;31mProgrammingError\u001b[0m: 1050 (42S01): Table 'student' already exists"
     ]
    }
   ],
   "source": [
    "cursor.execute(\"CREATE TABLE STUDENT(std_id INT AUTO_INCREMENT NOT NULL PRIMARY KEY,firstname VARCHAR(25),subjects VARCHAR(20),marks INT)\")\n",
    "#cursor.execute('show tables')\n",
    "#cursor.fetchall()"
   ]
  },
  {
   "cell_type": "code",
   "execution_count": 68,
   "id": "24f96a3b",
   "metadata": {},
   "outputs": [
    {
     "name": "stdout",
     "output_type": "stream",
     "text": [
      "rowprocessed 1\n"
     ]
    }
   ],
   "source": [
    "query='INSERT INTO STUDENT (firstname,subjects,marks) VALUES(%s,%s,%s)'\n",
    "value=('akash','biology',90)\n",
    "cursor.execute(query,value)            # insertinng single value of tuple we use .execute() it executes only once\n",
    "print('rowprocessed',cursor.lastrowid)"
   ]
  },
  {
   "cell_type": "code",
   "execution_count": 71,
   "id": "d6d0bf7e",
   "metadata": {},
   "outputs": [
    {
     "name": "stdout",
     "output_type": "stream",
     "text": [
      "rowsprocessed 2\n"
     ]
    }
   ],
   "source": [
    "query='INSERT INTO STUDENT (firstname,subjects,marks) VALUES(%s,%s,%s)'\n",
    "values=[('akash','biology',90),\n",
    "        ('gowda','physics',60),\n",
    "        ('shruthi','zooolo',85),\n",
    "        ('krish','maths',50),\n",
    "        ('raghu','kannada',70)]\n",
    "cursor.executemany(query,values)  #inserting multiple values in form of tuples we ise .executemany() it executes untill condn is satisfied\n",
    "print('rowsprocessed',cursor.lastrowid)"
   ]
  },
  {
   "cell_type": "markdown",
   "id": "db25831b",
   "metadata": {},
   "source": [
    "## Select statement / to get output we use fetch() or for loop "
   ]
  },
  {
   "cell_type": "code",
   "execution_count": 104,
   "id": "24ba92c7",
   "metadata": {},
   "outputs": [],
   "source": [
    "cursor=connection.cursor()\n",
    "cursor.execute(\"select emp from employee\")\n"
   ]
  },
  {
   "cell_type": "code",
   "execution_count": 86,
   "id": "7bca0835",
   "metadata": {},
   "outputs": [
    {
     "data": {
      "text/plain": [
       "[(1,\n",
       "  'akash',\n",
       "  'shetty',\n",
       "  50000,\n",
       "  datetime.datetime(2014, 1, 12, 9, 0),\n",
       "  'development'),\n",
       " (2,\n",
       "  'akshay',\n",
       "  'varma',\n",
       "  50500,\n",
       "  datetime.datetime(2014, 1, 12, 9, 0),\n",
       "  'development'),\n",
       " (3, 'sharukh', 'khan', 50700, datetime.datetime(2014, 1, 13, 9, 0), 'tester'),\n",
       " (4,\n",
       "  'akash',\n",
       "  'shetty',\n",
       "  60000,\n",
       "  datetime.datetime(2015, 1, 21, 9, 0),\n",
       "  'development'),\n",
       " (5, 'akshay', 'kumar', 70000, datetime.datetime(2015, 6, 15, 9, 0), 'HR')]"
      ]
     },
     "execution_count": 86,
     "metadata": {},
     "output_type": "execute_result"
    }
   ],
   "source": [
    "#to fetch all thedata\n",
    "cursor.fetchall()    # we get all the values of the table"
   ]
  },
  {
   "cell_type": "code",
   "execution_count": 99,
   "id": "dc40b613",
   "metadata": {},
   "outputs": [],
   "source": [
    "cursor.fetchone()    # fetchs only one record for which the pointer/cursor is pointing to"
   ]
  },
  {
   "cell_type": "code",
   "execution_count": 105,
   "id": "2a76107f",
   "metadata": {},
   "outputs": [],
   "source": [
    "lst=cursor.fetchall()"
   ]
  },
  {
   "cell_type": "code",
   "execution_count": 106,
   "id": "2486b91c",
   "metadata": {},
   "outputs": [
    {
     "name": "stdout",
     "output_type": "stream",
     "text": [
      "(1, 'akash', 'shetty', 50000, datetime.datetime(2014, 1, 12, 9, 0), 'development')\n",
      "(2, 'akshay', 'varma', 50500, datetime.datetime(2014, 1, 12, 9, 0), 'development')\n",
      "(3, 'sharukh', 'khan', 50700, datetime.datetime(2014, 1, 13, 9, 0), 'tester')\n",
      "(4, 'akash', 'shetty', 60000, datetime.datetime(2015, 1, 21, 9, 0), 'development')\n",
      "(5, 'akshay', 'kumar', 70000, datetime.datetime(2015, 6, 15, 9, 0), 'HR')\n"
     ]
    }
   ],
   "source": [
    "for records in lst:\n",
    "    print(records)"
   ]
  },
  {
   "cell_type": "code",
   "execution_count": null,
   "id": "93151926",
   "metadata": {},
   "outputs": [],
   "source": []
  }
 ],
 "metadata": {
  "kernelspec": {
   "display_name": "Python 3 (ipykernel)",
   "language": "python",
   "name": "python3"
  },
  "language_info": {
   "codemirror_mode": {
    "name": "ipython",
    "version": 3
   },
   "file_extension": ".py",
   "mimetype": "text/x-python",
   "name": "python",
   "nbconvert_exporter": "python",
   "pygments_lexer": "ipython3",
   "version": "3.9.13"
  }
 },
 "nbformat": 4,
 "nbformat_minor": 5
}
