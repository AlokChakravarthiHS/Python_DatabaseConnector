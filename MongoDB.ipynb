{
 "cells": [
  {
   "cell_type": "markdown",
   "id": "f566344a",
   "metadata": {},
   "source": [
    "# MongoDB with Python"
   ]
  },
  {
   "cell_type": "code",
   "execution_count": 1,
   "id": "fe088068",
   "metadata": {},
   "outputs": [],
   "source": [
    "import pymongo"
   ]
  },
  {
   "cell_type": "code",
   "execution_count": 2,
   "id": "a1e8e0f9",
   "metadata": {},
   "outputs": [],
   "source": [
    "client=pymongo.MongoClient('mongodb://127.0.0.1:27017/')  # creating the cliet i.e creating the connection to mongo server"
   ]
  },
  {
   "cell_type": "code",
   "execution_count": 8,
   "id": "73241737",
   "metadata": {},
   "outputs": [],
   "source": [
    "mydb=client['employees']   # here we are creating the database in mongo server"
   ]
  },
  {
   "cell_type": "code",
   "execution_count": 9,
   "id": "890796ef",
   "metadata": {},
   "outputs": [],
   "source": [
    "information=mydb.empinfo    # we are creating the instance information tht points to collection named empinfo in mydb"
   ]
  },
  {
   "cell_type": "code",
   "execution_count": 18,
   "id": "3dbd5c80",
   "metadata": {},
   "outputs": [],
   "source": [
    "record={\"fname\":\"Kiran\",\n",
    "         'age':32,\n",
    "         \"role\":\"sales\"     #------> record has the key:values pairs i.e document to be stored in mydb.empinfo.insert_one()\n",
    "        }"
   ]
  },
  {
   "cell_type": "code",
   "execution_count": 19,
   "id": "da561e83",
   "metadata": {},
   "outputs": [
    {
     "data": {
      "text/plain": [
       "<pymongo.results.InsertOneResult at 0x26b65365fa0>"
      ]
     },
     "execution_count": 19,
     "metadata": {},
     "output_type": "execute_result"
    }
   ],
   "source": [
    "information.insert_one(record)   # by this we have successfully nserted the document with attributes into collections of mydb"
   ]
  },
  {
   "cell_type": "code",
   "execution_count": 20,
   "id": "ab79cc15",
   "metadata": {},
   "outputs": [],
   "source": [
    "records=[{\"fname\":\"ramesh\",\n",
    "         'age':30,\n",
    "         \"role\":\"sales\" },\n",
    "        {\"fname\":\"praveen\",\n",
    "         'age':21,\n",
    "         \"role\":\"Baking\" },\n",
    "        {\"fname\":\"kushal\",\n",
    "         'age':36,\n",
    "         \"role\":\"main\" },\n",
    "        {\"fname\":\"vittal\",\n",
    "         'age':40,\n",
    "         \"role\":\"side\" }]"
   ]
  },
  {
   "cell_type": "code",
   "execution_count": 21,
   "id": "9d17665f",
   "metadata": {},
   "outputs": [
    {
     "data": {
      "text/plain": [
       "<pymongo.results.InsertManyResult at 0x26b653b6130>"
      ]
     },
     "execution_count": 21,
     "metadata": {},
     "output_type": "execute_result"
    }
   ],
   "source": [
    "information.insert_many(records)  # we use insert_many() is insert the list of documents present in records"
   ]
  },
  {
   "cell_type": "code",
   "execution_count": 30,
   "id": "d19116bb",
   "metadata": {},
   "outputs": [
    {
     "data": {
      "text/plain": [
       "{'_id': ObjectId('6433bebf6356a0b8b5369e55'),\n",
       " 'fname': 'praveen',\n",
       " 'age': 21,\n",
       " 'role': 'Baking'}"
      ]
     },
     "execution_count": 30,
     "metadata": {},
     "output_type": "execute_result"
    }
   ],
   "source": [
    "#quering in python\n",
    "information.find_one({\"fname\":\"praveen\"})"
   ]
  },
  {
   "cell_type": "code",
   "execution_count": 32,
   "id": "2cbfff5a",
   "metadata": {},
   "outputs": [],
   "source": [
    "rec=information.find({})"
   ]
  },
  {
   "cell_type": "code",
   "execution_count": 33,
   "id": "398d3607",
   "metadata": {},
   "outputs": [
    {
     "name": "stdout",
     "output_type": "stream",
     "text": [
      "{'_id': ObjectId('6433be7c6356a0b8b5369e53'), 'fname': 'Kiran', 'age': 32, 'role': 'sales'}\n",
      "{'_id': ObjectId('6433bebf6356a0b8b5369e54'), 'fname': 'ramesh', 'age': 30, 'role': 'sales'}\n",
      "{'_id': ObjectId('6433bebf6356a0b8b5369e55'), 'fname': 'praveen', 'age': 21, 'role': 'Baking'}\n",
      "{'_id': ObjectId('6433bebf6356a0b8b5369e56'), 'fname': 'kushal', 'age': 36, 'role': 'main'}\n",
      "{'_id': ObjectId('6433bebf6356a0b8b5369e57'), 'fname': 'vittal', 'age': 40, 'role': 'side'}\n"
     ]
    }
   ],
   "source": [
    "for i in rec:\n",
    "    print(i)"
   ]
  },
  {
   "cell_type": "code",
   "execution_count": 34,
   "id": "e6e29390",
   "metadata": {},
   "outputs": [
    {
     "name": "stdout",
     "output_type": "stream",
     "text": [
      "{'_id': ObjectId('6433be7c6356a0b8b5369e53'), 'fname': 'Kiran', 'age': 32, 'role': 'sales'}\n",
      "{'_id': ObjectId('6433bebf6356a0b8b5369e54'), 'fname': 'ramesh', 'age': 30, 'role': 'sales'}\n",
      "{'_id': ObjectId('6433bebf6356a0b8b5369e55'), 'fname': 'praveen', 'age': 21, 'role': 'Baking'}\n",
      "{'_id': ObjectId('6433bebf6356a0b8b5369e56'), 'fname': 'kushal', 'age': 36, 'role': 'main'}\n",
      "{'_id': ObjectId('6433bebf6356a0b8b5369e57'), 'fname': 'vittal', 'age': 40, 'role': 'side'}\n"
     ]
    }
   ],
   "source": [
    "for documents in information.find():\n",
    "    print(documents)"
   ]
  },
  {
   "cell_type": "code",
   "execution_count": 35,
   "id": "9027378f",
   "metadata": {},
   "outputs": [],
   "source": [
    "inventry=mydb.inventry    # creating another collection named inventry"
   ]
  },
  {
   "cell_type": "code",
   "execution_count": 39,
   "id": "77d656d3",
   "metadata": {},
   "outputs": [],
   "source": [
    "doc=[{\"name\":\"abas\",\"role\":\"acting\",\"movies\":[{\"mname\":\"abd\",\"duration\":2},{\"mname\":\"dictator\",\"duration\":2.30},{\"mname\":\"wild\",\"duration\":2.45}]},\n",
    "{\"name\":\"virat\",\"role\":\"director\",\"movies\":[{\"mname\":\"mounam\",\"duration\":3},{\"mname\":\"rudra\",\"duration\":2.30},{\"mname\":\"gold\",\"duration\":2.4}]},\n",
    "{\"name\":\"vikram\",\"role\":\"acting\",\"movies\":[{\"mname\":\"anniyan\",\"duration\":3},{\"mname\":\"swamy\",\"duration\":2.20},{\"mname\":\"dhool\",\"duration\":2}]},\n",
    "{\"name\":\"hari\",\"role\":\"director\",\"movies\":[{\"mname\":\"aaru\",\"duration\":2.4},{\"mname\":\"poojai\",\"duration\":2.10},{\"mname\":\"singam\",\"duration\":2.45}]}\n",
    "]"
   ]
  },
  {
   "cell_type": "code",
   "execution_count": 40,
   "id": "ba88e0b6",
   "metadata": {},
   "outputs": [
    {
     "data": {
      "text/plain": [
       "<pymongo.results.InsertManyResult at 0x26b65d5f970>"
      ]
     },
     "execution_count": 40,
     "metadata": {},
     "output_type": "execute_result"
    }
   ],
   "source": [
    "inventry.insert_many(doc)"
   ]
  },
  {
   "cell_type": "code",
   "execution_count": 41,
   "id": "29f9c382",
   "metadata": {},
   "outputs": [
    {
     "name": "stdout",
     "output_type": "stream",
     "text": [
      "{'_id': ObjectId('6433c8896356a0b8b5369e5b'), 'name': 'hari', 'role': 'director', 'movies': [{'mname': 'aaru', 'duration': 2.4}, {'mname': 'poojai', 'duration': 2.1}, {'mname': 'singam', 'duration': 2.45}]}\n"
     ]
    }
   ],
   "source": [
    "for documents in inventry.find({\"movies.mname\":\"aaru\"}):   # we use that this to retrive the data inside nested document list\n",
    "    print(documents)"
   ]
  },
  {
   "cell_type": "code",
   "execution_count": 47,
   "id": "488aeb30",
   "metadata": {},
   "outputs": [
    {
     "data": {
      "text/plain": [
       "<pymongo.results.UpdateResult at 0x26b65dfe5b0>"
      ]
     },
     "execution_count": 47,
     "metadata": {},
     "output_type": "execute_result"
    }
   ],
   "source": [
    "inventry.update_one({\"name\":\"abas\"},{\"$set\":{\"role\":\"supporting\",\"name\":\"sss\"},\"$currentDate\":{\"lastmodefied\":True}})"
   ]
  },
  {
   "cell_type": "code",
   "execution_count": 56,
   "id": "03667e25",
   "metadata": {},
   "outputs": [
    {
     "data": {
      "text/plain": [
       "<pymongo.results.UpdateResult at 0x26b65af6910>"
      ]
     },
     "execution_count": 56,
     "metadata": {},
     "output_type": "execute_result"
    }
   ],
   "source": [
    "inventry.update_one({\"name\":\"sss\"},{\"$set\":{\"role\":\"supporting\",\"name\":\"abc\"},\"$currentDate\":{\"lastmodefied\":True}})"
   ]
  },
  {
   "cell_type": "code",
   "execution_count": 58,
   "id": "dd120aff",
   "metadata": {},
   "outputs": [
    {
     "data": {
      "text/plain": [
       "<pymongo.results.UpdateResult at 0x26b65b04a60>"
      ]
     },
     "execution_count": 58,
     "metadata": {},
     "output_type": "execute_result"
    }
   ],
   "source": [
    "# it totally replaces the documnet in the collection of the matching attribute given with the given values\n",
    "\n",
    "inventry.replace_one({\"name\":\"abc\"},{\"name\":\"abc\",\"reviews\":[{\"name\":\"goog\",\"body\":\"good\"},{\"name\":\"yahoo\",\"body\":\"ok ok\"}]})"
   ]
  }
 ],
 "metadata": {
  "kernelspec": {
   "display_name": "Python 3 (ipykernel)",
   "language": "python",
   "name": "python3"
  },
  "language_info": {
   "codemirror_mode": {
    "name": "ipython",
    "version": 3
   },
   "file_extension": ".py",
   "mimetype": "text/x-python",
   "name": "python",
   "nbconvert_exporter": "python",
   "pygments_lexer": "ipython3",
   "version": "3.9.13"
  }
 },
 "nbformat": 4,
 "nbformat_minor": 5
}
